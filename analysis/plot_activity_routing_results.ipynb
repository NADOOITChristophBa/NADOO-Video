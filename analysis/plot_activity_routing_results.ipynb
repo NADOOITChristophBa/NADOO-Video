{
 "cells": [
  {
   "cell_type": "markdown",
   "metadata": {},
   "source": [
    "# Dynamic Activity-Based Routing Results\n",
    "This notebook visualizes synthetic and classification benchmarks for dynamic activity-based routing."
   ]
  },
  {
   "cell_type": "code",
   "metadata": {},
   "execution_count": null,
   "source": [
    "import pandas as pd", "import matplotlib.pyplot as plt"   
   ]
  },
  {
   "cell_type": "code",
   "metadata": {},
   "execution_count": null,
   "source": [
    "# Load data",
    "syn = pd.read_csv('agenten/nadoo_algorithmen/activity_routing_paper/experiments/synthetic_activity_results.csv')",
    "real = pd.read_csv('agenten/nadoo_algorithmen/activity_routing_paper/experiments/real_results.csv')"
   ]
  },
  {
   "cell_type": "code",
   "metadata": {},
   "execution_count": null,
   "source": [
    "# Synthetic: time vs compute ratio",
    "plt.figure(figsize=(6,4))",
    "plt.plot(syn['run_id'], syn['block_compute_ratio'], marker='o')",
    "plt.xlabel('Run')",
    "plt.ylabel('Block Compute Ratio')",
    "plt.title('Synthetic Block-Compute Ratio vs Time')",
    "plt.twinx()",
    "plt.plot(syn['run_id'], syn['time_s'], marker='x', color='r')",
    "plt.ylabel('Time (s)')",
    "plt.show()"
   ]
  },
  {
   "cell_type": "code",
   "metadata": {},
   "execution_count": null,
   "source": [
    "# Real: accuracy distribution",
    "plt.figure(figsize=(6,4))",
    "plt.hist(real['accuracy'], bins=5)",
    "plt.xlabel('Accuracy')",
    "plt.ylabel('Count')",
    "plt.title('Classification Accuracy Distribution')",
    "plt.show()"
   ]
  }
 ],
 "metadata": {"kernelspec": {"display_name": "Python 3","language": "python","name": "python3"},"language_info": {"name": "python","version": "3.9"}},
 "nbformat": 4, "nbformat_minor": 5
}

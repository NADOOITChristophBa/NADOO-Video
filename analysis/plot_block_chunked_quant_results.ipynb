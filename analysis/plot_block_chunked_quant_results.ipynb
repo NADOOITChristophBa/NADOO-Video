{
 "cells": [
  {
   "cell_type": "markdown",
   "metadata": {},
   "source": [
    "# Analysis of Block-Chunked Routing & Dynamic Quantization Results\n",
    "This notebook loads experiment logs and generates visualizations for inference time, memory usage, and accuracy."
   ]
  },
  {
   "cell_type": "code",
   "metadata": {},
   "execution_count": null,
   "source": [
    "import pandas as pd\n",
    "import matplotlib.pyplot as plt"
   ],
   "outputs": []
  },
  {
   "cell_type": "code",
   "metadata": {},
   "execution_count": null,
   "source": [
    "# Load experiment data\n",
    "syn = pd.read_csv('agenten/nadoo_algorithmen/block_chunk_quant_paper/experiments/synthetic_results.csv')\n",
    "cnn = pd.read_csv('agenten/nadoo_algorithmen/block_chunk_quant_paper/experiments/real_cnn_results.csv')"
   ],
   "outputs": []
  },
  {
   "cell_type": "code",
   "metadata": {},
   "execution_count": null,
   "source": [
    "# Plot synthetic MLP inference time\n",
    "plt.figure(figsize=(6,4))\n",
    "plt.plot(syn['run_id'], syn['time_s'], marker='o')\n",
    "plt.xlabel('Run')\n",
    "plt.ylabel('Time (s)')\n",
    "plt.title('Synthetic MLP Inference Time')\n",
    "plt.show()"
   ],
   "outputs": []
  },
  {
   "cell_type": "code",
   "metadata": {},
   "execution_count": null,
   "source": [
    "# Plot CNN accuracy distribution\n",
    "plt.figure(figsize=(6,4))\n",
    "plt.hist(cnn['accuracy'], bins=5)\n",
    "plt.xlabel('Accuracy')\n",
    "plt.ylabel('Count')\n",
    "plt.title('CNN Accuracy Distribution')\n",
    "plt.show()"
   ],
   "outputs": []
  }
 ],
 "metadata": {
  "kernelspec": {
   "display_name": "Python 3",
   "language": "python",
   "name": "python3"
  },
  "language_info": {
   "name": "python",
   "version": "3.9"
  }
 },
 "nbformat": 4,
 "nbformat_minor": 5
}

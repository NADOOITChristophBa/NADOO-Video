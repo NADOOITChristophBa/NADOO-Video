{
 "cells": [
  {
   "cell_type": "markdown",
   "metadata": {},
   "source": [
    "# Boundary-Based Dynamic Pruning & On-the-Fly Quantization Results\n",
    "Visualizing synthetic and CNN benchmark outcomes."
   ]
  },
  {
   "cell_type": "code",
   "metadata": {},
   "execution_count": null,
   "source": [
    "import pandas as pd", "import matplotlib.pyplot as plt"  
   ],
   "outputs": []
  },
  {
   "cell_type": "code",
   "metadata": {},
   "execution_count": null,
   "source": [
    "# Load data", 
    "syn = pd.read_csv('agenten/nadoo_algorithmen/boundary_pruning_paper/experiments/synthetic_pruning_results.csv')", 
    "real = pd.read_csv('agenten/nadoo_algorithmen/boundary_pruning_paper/experiments/real_pruning_results.csv')"
   ],
   "outputs": []
  },
  {
   "cell_type": "code",
   "metadata": {},
   "execution_count": null,
   "source": [
    "# Synthetic: Parameter Ratio vs Inference Time", 
    "plt.figure(figsize=(6,4))", 
    "plt.scatter(syn['param_ratio'], syn['time_s'], c=syn['run_id'], cmap='viridis')", 
    "plt.xlabel('Remaining Parameter Ratio')", 
    "plt.ylabel('Time (s)')", 
    "plt.title('Synthetic Pruning: Time vs Param Ratio')", 
    "plt.colorbar(label='Run')", 
    "plt.show()"
   ],
   "outputs": []
  },
  {
   "cell_type": "code",
   "metadata": {},
   "execution_count": null,
   "source": [
    "# Real CNN: Accuracy vs Param Ratio", 
    "plt.figure(figsize=(6,4))", 
    "plt.scatter(real['param_ratio'], real['accuracy'], c=real['run_id'], cmap='plasma')", 
    "plt.xlabel('Remaining Parameter Ratio')", 
    "plt.ylabel('Accuracy')", 
    "plt.title('CNN Pruning: Accuracy vs Param Ratio')", 
    "plt.colorbar(label='Run')", 
    "plt.show()"
   ],
   "outputs": []
  }
 ],
 "metadata": {
  "kernelspec": {"display_name": "Python 3","language": "python","name": "python3"},
  "language_info": {"name": "python","version": "3.9"}
 },
 "nbformat": 4,
 "nbformat_minor": 5
}
